{
 "cells": [
  {
   "cell_type": "markdown",
   "id": "e23215ee",
   "metadata": {},
   "source": [
    "# DRN demo using solar flares data"
   ]
  },
  {
   "cell_type": "code",
   "execution_count": 1,
   "id": "0facc6e2",
   "metadata": {},
   "outputs": [],
   "source": [
    "import numpy as np\n",
    "import pandas as pd\n",
    "import networkx as nx\n",
    "import itertools as it\n",
    "import pyvis\n",
    "from pyvis.network import Network\n",
    "import toolz as tz\n",
    "import colorcet as cc"
   ]
  },
  {
   "cell_type": "markdown",
   "id": "a4b9f60d",
   "metadata": {},
   "source": [
    "## Intro to The Problem"
   ]
  },
  {
   "cell_type": "markdown",
   "id": "556e84d8",
   "metadata": {},
   "source": [
    "## Dataset Overview\n",
    "### Solar Flare dataset\n",
    "#### About \n",
    "A solar flare is a short-lived sudden increase in the intensity of radiation emitted in the neighborhood of sunspots [1]. Each class attribute counts the number of solar flares of a certain class that occur in a 24 hour period.\n",
    "#### Source information\n",
    "UCI Machine Learning Repository <br>\n",
    "Number of Instances: 1066\n",
    "#### Attribute Information\n",
    "- `klass`: Code for class (modified Zurich class) (A, B, C, D, E, F, H)\n",
    "- `size`: Code for largest spot size (X, R, S, A, H, K)\n",
    "- `dist`: Code for spot distribution (X, O, I, C)\n",
    "- `act`: Activity                                (1 = reduced, 2 = unchanged)\n",
    "- `evo`: Evolution                               (1 = decay, 2 = no growth, 3 = growth)\n",
    "- `prev`: Previous 24 hour flare activity code    (1 = nothing as big as an M1,2 = one M1,3 = more activity than one M1)\n",
    "- `complex`: Historically-complex                    (1 = Yes, 2 = No)\n",
    "- `hist_complex`: Did region become historically complex on this pass across the sun's disk (1 = yes, 2 = no) \n",
    "- `area`: Area                                    (1 = small, 2 = large)\n",
    "- `c_class`: small with few noticeable consequences on Earth\n",
    "- `m_class`: medium-sized; cause brief radio blackouts that affect Earth's polar regions\n",
    "- `x_class`: big; major events that can trigger planet-wide radio blackouts and long-lasting radiation storms\n",
    "\n",
    "#### References\n",
    "- [1] National Centers for Environmental Information. Solar flares. https://www.ngdc.noaa.gov/stp/solar/solarflares.html\n",
    "- [2] SpaceWeather.com. The Classification of X-ray Solar Flares. https://www.spaceweather.com/glossary/flareclasses.html"
   ]
  },
  {
   "cell_type": "markdown",
   "id": "cd21b02a",
   "metadata": {},
   "source": [
    "## Dataset Exploration"
   ]
  },
  {
   "cell_type": "markdown",
   "id": "e8851224",
   "metadata": {},
   "source": [
    "load the dataset"
   ]
  },
  {
   "cell_type": "code",
   "execution_count": 2,
   "id": "e730c5a9",
   "metadata": {},
   "outputs": [
    {
     "data": {
      "text/html": [
       "<div>\n",
       "<style scoped>\n",
       "    .dataframe tbody tr th:only-of-type {\n",
       "        vertical-align: middle;\n",
       "    }\n",
       "\n",
       "    .dataframe tbody tr th {\n",
       "        vertical-align: top;\n",
       "    }\n",
       "\n",
       "    .dataframe thead th {\n",
       "        text-align: right;\n",
       "    }\n",
       "</style>\n",
       "<table border=\"1\" class=\"dataframe\">\n",
       "  <thead>\n",
       "    <tr style=\"text-align: right;\">\n",
       "      <th></th>\n",
       "      <th>klass</th>\n",
       "      <th>size</th>\n",
       "      <th>dist</th>\n",
       "      <th>act</th>\n",
       "      <th>evo</th>\n",
       "      <th>prev</th>\n",
       "      <th>complex</th>\n",
       "      <th>hist_complex</th>\n",
       "      <th>area</th>\n",
       "      <th>c_class</th>\n",
       "      <th>m_class</th>\n",
       "      <th>x_class</th>\n",
       "    </tr>\n",
       "  </thead>\n",
       "  <tbody>\n",
       "    <tr>\n",
       "      <th>0</th>\n",
       "      <td>H</td>\n",
       "      <td>A</td>\n",
       "      <td>X</td>\n",
       "      <td>1</td>\n",
       "      <td>3</td>\n",
       "      <td>1</td>\n",
       "      <td>1</td>\n",
       "      <td>1</td>\n",
       "      <td>1</td>\n",
       "      <td>0</td>\n",
       "      <td>0</td>\n",
       "      <td>0</td>\n",
       "    </tr>\n",
       "    <tr>\n",
       "      <th>1</th>\n",
       "      <td>D</td>\n",
       "      <td>R</td>\n",
       "      <td>O</td>\n",
       "      <td>1</td>\n",
       "      <td>3</td>\n",
       "      <td>1</td>\n",
       "      <td>1</td>\n",
       "      <td>2</td>\n",
       "      <td>1</td>\n",
       "      <td>0</td>\n",
       "      <td>0</td>\n",
       "      <td>0</td>\n",
       "    </tr>\n",
       "    <tr>\n",
       "      <th>2</th>\n",
       "      <td>C</td>\n",
       "      <td>S</td>\n",
       "      <td>O</td>\n",
       "      <td>1</td>\n",
       "      <td>3</td>\n",
       "      <td>1</td>\n",
       "      <td>1</td>\n",
       "      <td>2</td>\n",
       "      <td>1</td>\n",
       "      <td>0</td>\n",
       "      <td>0</td>\n",
       "      <td>0</td>\n",
       "    </tr>\n",
       "    <tr>\n",
       "      <th>3</th>\n",
       "      <td>H</td>\n",
       "      <td>R</td>\n",
       "      <td>X</td>\n",
       "      <td>1</td>\n",
       "      <td>2</td>\n",
       "      <td>1</td>\n",
       "      <td>1</td>\n",
       "      <td>1</td>\n",
       "      <td>1</td>\n",
       "      <td>0</td>\n",
       "      <td>0</td>\n",
       "      <td>0</td>\n",
       "    </tr>\n",
       "    <tr>\n",
       "      <th>4</th>\n",
       "      <td>H</td>\n",
       "      <td>S</td>\n",
       "      <td>X</td>\n",
       "      <td>1</td>\n",
       "      <td>1</td>\n",
       "      <td>1</td>\n",
       "      <td>1</td>\n",
       "      <td>2</td>\n",
       "      <td>1</td>\n",
       "      <td>0</td>\n",
       "      <td>0</td>\n",
       "      <td>0</td>\n",
       "    </tr>\n",
       "  </tbody>\n",
       "</table>\n",
       "</div>"
      ],
      "text/plain": [
       "  klass size dist  act  evo  prev  complex  hist_complex  area  c_class  \\\n",
       "0     H    A    X    1    3     1        1             1     1        0   \n",
       "1     D    R    O    1    3     1        1             2     1        0   \n",
       "2     C    S    O    1    3     1        1             2     1        0   \n",
       "3     H    R    X    1    2     1        1             1     1        0   \n",
       "4     H    S    X    1    1     1        1             2     1        0   \n",
       "\n",
       "   m_class  x_class  \n",
       "0        0        0  \n",
       "1        0        0  \n",
       "2        0        0  \n",
       "3        0        0  \n",
       "4        0        0  "
      ]
     },
     "execution_count": 2,
     "metadata": {},
     "output_type": "execute_result"
    }
   ],
   "source": [
    "x = pd.read_csv('solar_flare.csv.gz')\n",
    "x.head()"
   ]
  },
  {
   "cell_type": "markdown",
   "id": "bd3e317f",
   "metadata": {},
   "source": [
    "construct the contingency table for class [B, C, D, E, F, H] and size [A, H, K, R, S, X]"
   ]
  },
  {
   "cell_type": "code",
   "execution_count": 3,
   "id": "1082fb57",
   "metadata": {},
   "outputs": [
    {
     "data": {
      "text/html": [
       "<div>\n",
       "<style scoped>\n",
       "    .dataframe tbody tr th:only-of-type {\n",
       "        vertical-align: middle;\n",
       "    }\n",
       "\n",
       "    .dataframe tbody tr th {\n",
       "        vertical-align: top;\n",
       "    }\n",
       "\n",
       "    .dataframe thead th {\n",
       "        text-align: right;\n",
       "    }\n",
       "</style>\n",
       "<table border=\"1\" class=\"dataframe\">\n",
       "  <thead>\n",
       "    <tr style=\"text-align: right;\">\n",
       "      <th>size</th>\n",
       "      <th>A</th>\n",
       "      <th>H</th>\n",
       "      <th>K</th>\n",
       "      <th>R</th>\n",
       "      <th>S</th>\n",
       "      <th>X</th>\n",
       "    </tr>\n",
       "    <tr>\n",
       "      <th>klass</th>\n",
       "      <th></th>\n",
       "      <th></th>\n",
       "      <th></th>\n",
       "      <th></th>\n",
       "      <th></th>\n",
       "      <th></th>\n",
       "    </tr>\n",
       "  </thead>\n",
       "  <tbody>\n",
       "    <tr>\n",
       "      <th>B</th>\n",
       "      <td>0</td>\n",
       "      <td>0</td>\n",
       "      <td>0</td>\n",
       "      <td>0</td>\n",
       "      <td>2</td>\n",
       "      <td>145</td>\n",
       "    </tr>\n",
       "    <tr>\n",
       "      <th>C</th>\n",
       "      <td>24</td>\n",
       "      <td>3</td>\n",
       "      <td>1</td>\n",
       "      <td>93</td>\n",
       "      <td>90</td>\n",
       "      <td>0</td>\n",
       "    </tr>\n",
       "    <tr>\n",
       "      <th>D</th>\n",
       "      <td>93</td>\n",
       "      <td>8</td>\n",
       "      <td>14</td>\n",
       "      <td>59</td>\n",
       "      <td>65</td>\n",
       "      <td>0</td>\n",
       "    </tr>\n",
       "    <tr>\n",
       "      <th>E</th>\n",
       "      <td>46</td>\n",
       "      <td>6</td>\n",
       "      <td>18</td>\n",
       "      <td>3</td>\n",
       "      <td>22</td>\n",
       "      <td>0</td>\n",
       "    </tr>\n",
       "    <tr>\n",
       "      <th>F</th>\n",
       "      <td>20</td>\n",
       "      <td>3</td>\n",
       "      <td>12</td>\n",
       "      <td>1</td>\n",
       "      <td>7</td>\n",
       "      <td>0</td>\n",
       "    </tr>\n",
       "    <tr>\n",
       "      <th>H</th>\n",
       "      <td>33</td>\n",
       "      <td>7</td>\n",
       "      <td>1</td>\n",
       "      <td>62</td>\n",
       "      <td>228</td>\n",
       "      <td>0</td>\n",
       "    </tr>\n",
       "  </tbody>\n",
       "</table>\n",
       "</div>"
      ],
      "text/plain": [
       "size    A  H   K   R    S    X\n",
       "klass                         \n",
       "B       0  0   0   0    2  145\n",
       "C      24  3   1  93   90    0\n",
       "D      93  8  14  59   65    0\n",
       "E      46  6  18   3   22    0\n",
       "F      20  3  12   1    7    0\n",
       "H      33  7   1  62  228    0"
      ]
     },
     "execution_count": 3,
     "metadata": {},
     "output_type": "execute_result"
    }
   ],
   "source": [
    "x.groupby(['klass','size']).count()['dist'].unstack().fillna(0).astype(int)"
   ]
  },
  {
   "cell_type": "markdown",
   "id": "12a89901",
   "metadata": {},
   "source": [
    "explore all the possible responses for each attribute"
   ]
  },
  {
   "cell_type": "code",
   "execution_count": 4,
   "id": "c579f674",
   "metadata": {},
   "outputs": [
    {
     "data": {
      "text/plain": [
       "klass                 [H, D, C, B, E, F]\n",
       "size                  [A, R, S, X, K, H]\n",
       "dist                        [X, O, I, C]\n",
       "act                               [1, 2]\n",
       "evo                            [3, 2, 1]\n",
       "prev                           [1, 3, 2]\n",
       "complex                           [1, 2]\n",
       "hist_complex                      [1, 2]\n",
       "area                              [1, 2]\n",
       "c_class         [0, 1, 5, 2, 3, 8, 4, 6]\n",
       "m_class               [0, 1, 4, 3, 2, 5]\n",
       "x_class                        [0, 1, 2]\n",
       "dtype: object"
      ]
     },
     "execution_count": 4,
     "metadata": {},
     "output_type": "execute_result"
    }
   ],
   "source": [
    "x.apply(lambda i:i.unique())"
   ]
  },
  {
   "cell_type": "markdown",
   "id": "6355ea13",
   "metadata": {},
   "source": [
    "append the attribute to the response as `tags` to match the generalized row-wise format\n",
    "\n",
    "| Unit      | Tags | \n",
    "| :---        |    ----:   |\n",
    "| $u_1$      | $t_{k_{11}}$,$t_{k_{12}}$,...,$t_{k_{n_1}}$| \n",
    "| ...   | ...        | \n",
    "| $u_m$   | $t_{k_{m1}}$,$t_{k_{m2}}$,...,$t_{k_{n_m}}$       | \n"
   ]
  },
  {
   "cell_type": "code",
   "execution_count": 5,
   "id": "22cdbd36",
   "metadata": {},
   "outputs": [
    {
     "data": {
      "text/html": [
       "<div>\n",
       "<style scoped>\n",
       "    .dataframe tbody tr th:only-of-type {\n",
       "        vertical-align: middle;\n",
       "    }\n",
       "\n",
       "    .dataframe tbody tr th {\n",
       "        vertical-align: top;\n",
       "    }\n",
       "\n",
       "    .dataframe thead th {\n",
       "        text-align: right;\n",
       "    }\n",
       "</style>\n",
       "<table border=\"1\" class=\"dataframe\">\n",
       "  <thead>\n",
       "    <tr style=\"text-align: right;\">\n",
       "      <th></th>\n",
       "      <th>klass</th>\n",
       "      <th>size</th>\n",
       "      <th>dist</th>\n",
       "      <th>act</th>\n",
       "      <th>evo</th>\n",
       "      <th>prev</th>\n",
       "      <th>complex</th>\n",
       "      <th>hist_complex</th>\n",
       "      <th>area</th>\n",
       "      <th>c_class</th>\n",
       "      <th>m_class</th>\n",
       "      <th>x_class</th>\n",
       "    </tr>\n",
       "  </thead>\n",
       "  <tbody>\n",
       "    <tr>\n",
       "      <th>0</th>\n",
       "      <td>klass_H</td>\n",
       "      <td>size_A</td>\n",
       "      <td>dist_X</td>\n",
       "      <td>act_1</td>\n",
       "      <td>evo_3</td>\n",
       "      <td>prev_1</td>\n",
       "      <td>complex_1</td>\n",
       "      <td>hist_complex_1</td>\n",
       "      <td>area_1</td>\n",
       "      <td>c_class_0</td>\n",
       "      <td>m_class_0</td>\n",
       "      <td>x_class_0</td>\n",
       "    </tr>\n",
       "    <tr>\n",
       "      <th>1</th>\n",
       "      <td>klass_D</td>\n",
       "      <td>size_R</td>\n",
       "      <td>dist_O</td>\n",
       "      <td>act_1</td>\n",
       "      <td>evo_3</td>\n",
       "      <td>prev_1</td>\n",
       "      <td>complex_1</td>\n",
       "      <td>hist_complex_2</td>\n",
       "      <td>area_1</td>\n",
       "      <td>c_class_0</td>\n",
       "      <td>m_class_0</td>\n",
       "      <td>x_class_0</td>\n",
       "    </tr>\n",
       "    <tr>\n",
       "      <th>2</th>\n",
       "      <td>klass_C</td>\n",
       "      <td>size_S</td>\n",
       "      <td>dist_O</td>\n",
       "      <td>act_1</td>\n",
       "      <td>evo_3</td>\n",
       "      <td>prev_1</td>\n",
       "      <td>complex_1</td>\n",
       "      <td>hist_complex_2</td>\n",
       "      <td>area_1</td>\n",
       "      <td>c_class_0</td>\n",
       "      <td>m_class_0</td>\n",
       "      <td>x_class_0</td>\n",
       "    </tr>\n",
       "    <tr>\n",
       "      <th>3</th>\n",
       "      <td>klass_H</td>\n",
       "      <td>size_R</td>\n",
       "      <td>dist_X</td>\n",
       "      <td>act_1</td>\n",
       "      <td>evo_2</td>\n",
       "      <td>prev_1</td>\n",
       "      <td>complex_1</td>\n",
       "      <td>hist_complex_1</td>\n",
       "      <td>area_1</td>\n",
       "      <td>c_class_0</td>\n",
       "      <td>m_class_0</td>\n",
       "      <td>x_class_0</td>\n",
       "    </tr>\n",
       "    <tr>\n",
       "      <th>4</th>\n",
       "      <td>klass_H</td>\n",
       "      <td>size_S</td>\n",
       "      <td>dist_X</td>\n",
       "      <td>act_1</td>\n",
       "      <td>evo_1</td>\n",
       "      <td>prev_1</td>\n",
       "      <td>complex_1</td>\n",
       "      <td>hist_complex_2</td>\n",
       "      <td>area_1</td>\n",
       "      <td>c_class_0</td>\n",
       "      <td>m_class_0</td>\n",
       "      <td>x_class_0</td>\n",
       "    </tr>\n",
       "  </tbody>\n",
       "</table>\n",
       "</div>"
      ],
      "text/plain": [
       "     klass    size    dist    act    evo    prev    complex    hist_complex  \\\n",
       "0  klass_H  size_A  dist_X  act_1  evo_3  prev_1  complex_1  hist_complex_1   \n",
       "1  klass_D  size_R  dist_O  act_1  evo_3  prev_1  complex_1  hist_complex_2   \n",
       "2  klass_C  size_S  dist_O  act_1  evo_3  prev_1  complex_1  hist_complex_2   \n",
       "3  klass_H  size_R  dist_X  act_1  evo_2  prev_1  complex_1  hist_complex_1   \n",
       "4  klass_H  size_S  dist_X  act_1  evo_1  prev_1  complex_1  hist_complex_2   \n",
       "\n",
       "     area    c_class    m_class    x_class  \n",
       "0  area_1  c_class_0  m_class_0  x_class_0  \n",
       "1  area_1  c_class_0  m_class_0  x_class_0  \n",
       "2  area_1  c_class_0  m_class_0  x_class_0  \n",
       "3  area_1  c_class_0  m_class_0  x_class_0  \n",
       "4  area_1  c_class_0  m_class_0  x_class_0  "
      ]
     },
     "execution_count": 5,
     "metadata": {},
     "output_type": "execute_result"
    }
   ],
   "source": [
    "df = x.apply(lambda i:i.name+'_'+i.astype(str))\n",
    "df.head()"
   ]
  },
  {
   "cell_type": "markdown",
   "id": "c12511c1",
   "metadata": {},
   "source": [
    "## Data Reduction Network Construction\n",
    "- Step 1: Graph Construction\n",
    "    1. form a clique from all the tags of a given row\n",
    "    2. combine the edge with the same endpoints and increment `cnt` by 1\n",
    "- Step 2: Simplify the Graph\n",
    "    1. apply Prim's algorithm (Minimum Spanning Tree algorithm) to prune the number of edges to the minimal most likely set, based on `cnt`\n"
   ]
  },
  {
   "cell_type": "code",
   "execution_count": 6,
   "id": "15249030",
   "metadata": {},
   "outputs": [],
   "source": [
    "class CounterDict(dict):\n",
    "    def update(self,d):\n",
    "        for k,v in d.items():\n",
    "            if k in self:\n",
    "                self[k]+=v\n",
    "            else:\n",
    "                self[k]=v\n",
    "\n",
    "class CounterGraph(nx.Graph):\n",
    "    '''\n",
    "    CounterGraph extends from networkx Graph object\n",
    "    \n",
    "    `edge_attr_dict_factory`: override the factory function to be used to create the graph attribute dict\n",
    "                              which holds attribute values keyed by attribute name\n",
    "    here add the edge between every two tag in the same row and the edge has attribute 'cnt'\n",
    "    '''\n",
    "    edge_attr_dict_factory = CounterDict"
   ]
  },
  {
   "cell_type": "code",
   "execution_count": 7,
   "id": "edb439f1",
   "metadata": {},
   "outputs": [],
   "source": [
    "# initialize the graph\n",
    "g = CounterGraph()\n",
    "\n",
    "# add the edge between every two tag in the same row and increment the 'cnt' of edge by 1\n",
    "for row in df.iterrows():\n",
    "    g.add_edges_from(it.combinations(row[1],2),cnt=1)\n"
   ]
  },
  {
   "cell_type": "code",
   "execution_count": 8,
   "id": "1c3a739a",
   "metadata": {},
   "outputs": [
    {
     "data": {
      "text/plain": [
       "12"
      ]
     },
     "execution_count": 8,
     "metadata": {},
     "output_type": "execute_result"
    }
   ],
   "source": [
    "g['klass_F']['size_K']['cnt']"
   ]
  },
  {
   "cell_type": "markdown",
   "id": "62ef3ef3",
   "metadata": {},
   "source": [
    "Simply the graph by Minimum Spanning Tree Algorithm"
   ]
  },
  {
   "cell_type": "code",
   "execution_count": 9,
   "id": "6e1f68bd",
   "metadata": {},
   "outputs": [],
   "source": [
    "t = nx.maximum_spanning_tree(g, weight='cnt')"
   ]
  },
  {
   "cell_type": "markdown",
   "id": "7974b0e6",
   "metadata": {},
   "source": [
    "## display the tree"
   ]
  },
  {
   "cell_type": "code",
   "execution_count": 10,
   "id": "0c44be30",
   "metadata": {},
   "outputs": [
    {
     "data": {
      "image/png": "[encoded data removed]",
      "text/plain": [
       "<Figure size 432x288 with 1 Axes>"
      ]
     },
     "metadata": {},
     "output_type": "display_data"
    }
   ],
   "source": [
    "nx.draw_kamada_kawai(t)"
   ]
  },
  {
   "cell_type": "code",
   "execution_count": 11,
   "id": "4e43b97c",
   "metadata": {},
   "outputs": [],
   "source": [
    "nt = Network(notebook=True,width='100%')"
   ]
  },
  {
   "cell_type": "code",
   "execution_count": 12,
   "id": "c0ae0ef8",
   "metadata": {},
   "outputs": [],
   "source": [
    "nt.from_nx(t)"
   ]
  },
  {
   "cell_type": "code",
   "execution_count": 13,
   "id": "1c1258b9",
   "metadata": {},
   "outputs": [],
   "source": [
    "# nodes proportional to counts \n",
    "for i in df.columns:\n",
    "    for k,v in df[i].value_counts().items():\n",
    "        nt.node_map[k]['size'] = v/20\n",
    "        nt.node_map[k]['title'] = k # add hover to node"
   ]
  },
  {
   "cell_type": "code",
   "execution_count": 14,
   "id": "1eba33e1",
   "metadata": {},
   "outputs": [],
   "source": [
    "node_colors = dict(zip(df.columns, cc.b_glasbey_category10))\n",
    "# different node colors for each column\n",
    "tz.valmap(lambda i:i.update({'color':node_colors[i['id'].rsplit('_',1)[0]]}),nt.node_map);"
   ]
  },
  {
   "cell_type": "code",
   "execution_count": 15,
   "id": "dccd5b32",
   "metadata": {},
   "outputs": [],
   "source": [
    "# update edges by weight\n",
    "edge_lookup = {(i['from'],i['to']) :n for n,i in enumerate(nt.edges)}\n",
    "\n",
    "for i,j,d in t.edges(data=True):\n",
    "    nt.edges[edge_lookup[(i,j)]]['width'] = g[i][j]['cnt']/100"
   ]
  },
  {
   "cell_type": "code",
   "execution_count": 16,
   "id": "f859b11b",
   "metadata": {},
   "outputs": [
    {
     "data": {
      "text/html": [
       "\n",
       "        <iframe\n",
       "            width=\"100%\"\n",
       "            height=\"500px\"\n",
       "            src=\"nx.html\"\n",
       "            frameborder=\"0\"\n",
       "            allowfullscreen\n",
       "            \n",
       "        ></iframe>\n",
       "        "
      ],
      "text/plain": [
       "<IPython.lib.display.IFrame at 0x7f2a6f143730>"
      ]
     },
     "execution_count": 16,
     "metadata": {},
     "output_type": "execute_result"
    }
   ],
   "source": [
    "nt.show('nx.html')"
   ]
  },
  {
   "cell_type": "markdown",
   "id": "64f538ce",
   "metadata": {},
   "source": [
    "## Interpreting MST Features"
   ]
  },
  {
   "cell_type": "markdown",
   "id": "02494fdd",
   "metadata": {},
   "source": [
    "#### Observation 1\n",
    "- There are thick edges between `x_class_0`, `c_class_0`, `m_class_0`, there might be statistically significance between them"
   ]
  },
  {
   "cell_type": "code",
   "execution_count": 17,
   "id": "dd817b5d",
   "metadata": {},
   "outputs": [
    {
     "data": {
      "text/html": [
       "<div>\n",
       "<style scoped>\n",
       "    .dataframe tbody tr th:only-of-type {\n",
       "        vertical-align: middle;\n",
       "    }\n",
       "\n",
       "    .dataframe tbody tr th {\n",
       "        vertical-align: top;\n",
       "    }\n",
       "\n",
       "    .dataframe thead th {\n",
       "        text-align: right;\n",
       "    }\n",
       "</style>\n",
       "<table border=\"1\" class=\"dataframe\">\n",
       "  <thead>\n",
       "    <tr style=\"text-align: right;\">\n",
       "      <th></th>\n",
       "      <th></th>\n",
       "      <th></th>\n",
       "      <th>act</th>\n",
       "    </tr>\n",
       "    <tr>\n",
       "      <th>x_class</th>\n",
       "      <th>c_class</th>\n",
       "      <th>m_class</th>\n",
       "      <th></th>\n",
       "    </tr>\n",
       "  </thead>\n",
       "  <tbody>\n",
       "    <tr>\n",
       "      <th rowspan=\"18\" valign=\"top\">0</th>\n",
       "      <th rowspan=\"4\" valign=\"top\">0</th>\n",
       "      <th>0</th>\n",
       "      <td>865</td>\n",
       "    </tr>\n",
       "    <tr>\n",
       "      <th>1</th>\n",
       "      <td>15</td>\n",
       "    </tr>\n",
       "    <tr>\n",
       "      <th>2</th>\n",
       "      <td>1</td>\n",
       "    </tr>\n",
       "    <tr>\n",
       "      <th>3</th>\n",
       "      <td>1</td>\n",
       "    </tr>\n",
       "    <tr>\n",
       "      <th rowspan=\"2\" valign=\"top\">1</th>\n",
       "      <th>0</th>\n",
       "      <td>104</td>\n",
       "    </tr>\n",
       "    <tr>\n",
       "      <th>1</th>\n",
       "      <td>5</td>\n",
       "    </tr>\n",
       "    <tr>\n",
       "      <th rowspan=\"3\" valign=\"top\">2</th>\n",
       "      <th>0</th>\n",
       "      <td>27</td>\n",
       "    </tr>\n",
       "    <tr>\n",
       "      <th>1</th>\n",
       "      <td>4</td>\n",
       "    </tr>\n",
       "    <tr>\n",
       "      <th>2</th>\n",
       "      <td>2</td>\n",
       "    </tr>\n",
       "    <tr>\n",
       "      <th rowspan=\"2\" valign=\"top\">3</th>\n",
       "      <th>0</th>\n",
       "      <td>18</td>\n",
       "    </tr>\n",
       "    <tr>\n",
       "      <th>1</th>\n",
       "      <td>2</td>\n",
       "    </tr>\n",
       "    <tr>\n",
       "      <th rowspan=\"3\" valign=\"top\">4</th>\n",
       "      <th>0</th>\n",
       "      <td>7</td>\n",
       "    </tr>\n",
       "    <tr>\n",
       "      <th>1</th>\n",
       "      <td>1</td>\n",
       "    </tr>\n",
       "    <tr>\n",
       "      <th>4</th>\n",
       "      <td>1</td>\n",
       "    </tr>\n",
       "    <tr>\n",
       "      <th rowspan=\"2\" valign=\"top\">5</th>\n",
       "      <th>0</th>\n",
       "      <td>3</td>\n",
       "    </tr>\n",
       "    <tr>\n",
       "      <th>1</th>\n",
       "      <td>1</td>\n",
       "    </tr>\n",
       "    <tr>\n",
       "      <th>6</th>\n",
       "      <th>0</th>\n",
       "      <td>3</td>\n",
       "    </tr>\n",
       "    <tr>\n",
       "      <th>8</th>\n",
       "      <th>0</th>\n",
       "      <td>1</td>\n",
       "    </tr>\n",
       "    <tr>\n",
       "      <th rowspan=\"3\" valign=\"top\">1</th>\n",
       "      <th rowspan=\"2\" valign=\"top\">0</th>\n",
       "      <th>1</th>\n",
       "      <td>1</td>\n",
       "    </tr>\n",
       "    <tr>\n",
       "      <th>5</th>\n",
       "      <td>1</td>\n",
       "    </tr>\n",
       "    <tr>\n",
       "      <th>1</th>\n",
       "      <th>0</th>\n",
       "      <td>2</td>\n",
       "    </tr>\n",
       "    <tr>\n",
       "      <th>2</th>\n",
       "      <th>1</th>\n",
       "      <th>3</th>\n",
       "      <td>1</td>\n",
       "    </tr>\n",
       "  </tbody>\n",
       "</table>\n",
       "</div>"
      ],
      "text/plain": [
       "                         act\n",
       "x_class c_class m_class     \n",
       "0       0       0        865\n",
       "                1         15\n",
       "                2          1\n",
       "                3          1\n",
       "        1       0        104\n",
       "                1          5\n",
       "        2       0         27\n",
       "                1          4\n",
       "                2          2\n",
       "        3       0         18\n",
       "                1          2\n",
       "        4       0          7\n",
       "                1          1\n",
       "                4          1\n",
       "        5       0          3\n",
       "                1          1\n",
       "        6       0          3\n",
       "        8       0          1\n",
       "1       0       1          1\n",
       "                5          1\n",
       "        1       0          2\n",
       "2       1       3          1"
      ]
     },
     "execution_count": 17,
     "metadata": {},
     "output_type": "execute_result"
    }
   ],
   "source": [
    "x.groupby([ 'x_class','c_class', 'm_class',]).count()['act'].to_frame()"
   ]
  },
  {
   "cell_type": "markdown",
   "id": "0ff0db64",
   "metadata": {},
   "source": [
    "explore relationship between `klass` and `area`"
   ]
  },
  {
   "cell_type": "code",
   "execution_count": 18,
   "id": "e670fd08",
   "metadata": {},
   "outputs": [
    {
     "data": {
      "text/html": [
       "<div>\n",
       "<style scoped>\n",
       "    .dataframe tbody tr th:only-of-type {\n",
       "        vertical-align: middle;\n",
       "    }\n",
       "\n",
       "    .dataframe tbody tr th {\n",
       "        vertical-align: top;\n",
       "    }\n",
       "\n",
       "    .dataframe thead th {\n",
       "        text-align: right;\n",
       "    }\n",
       "</style>\n",
       "<table border=\"1\" class=\"dataframe\">\n",
       "  <thead>\n",
       "    <tr style=\"text-align: right;\">\n",
       "      <th>area</th>\n",
       "      <th>1</th>\n",
       "      <th>2</th>\n",
       "    </tr>\n",
       "    <tr>\n",
       "      <th>klass</th>\n",
       "      <th></th>\n",
       "      <th></th>\n",
       "    </tr>\n",
       "  </thead>\n",
       "  <tbody>\n",
       "    <tr>\n",
       "      <th>B</th>\n",
       "      <td>147</td>\n",
       "      <td>0</td>\n",
       "    </tr>\n",
       "    <tr>\n",
       "      <th>C</th>\n",
       "      <td>211</td>\n",
       "      <td>0</td>\n",
       "    </tr>\n",
       "    <tr>\n",
       "      <th>D</th>\n",
       "      <td>238</td>\n",
       "      <td>1</td>\n",
       "    </tr>\n",
       "    <tr>\n",
       "      <th>E</th>\n",
       "      <td>80</td>\n",
       "      <td>15</td>\n",
       "    </tr>\n",
       "    <tr>\n",
       "      <th>F</th>\n",
       "      <td>32</td>\n",
       "      <td>11</td>\n",
       "    </tr>\n",
       "    <tr>\n",
       "      <th>H</th>\n",
       "      <td>331</td>\n",
       "      <td>0</td>\n",
       "    </tr>\n",
       "  </tbody>\n",
       "</table>\n",
       "</div>"
      ],
      "text/plain": [
       "area     1   2\n",
       "klass         \n",
       "B      147   0\n",
       "C      211   0\n",
       "D      238   1\n",
       "E       80  15\n",
       "F       32  11\n",
       "H      331   0"
      ]
     },
     "execution_count": 18,
     "metadata": {},
     "output_type": "execute_result"
    }
   ],
   "source": [
    "x.groupby(['klass', 'area']).count()['size'].unstack().fillna(0).astype(int)"
   ]
  },
  {
   "cell_type": "code",
   "execution_count": null,
   "id": "d136fbc5",
   "metadata": {},
   "outputs": [],
   "source": []
  }
 ],
 "metadata": {
  "kernelspec": {
   "display_name": "Python 3",
   "language": "python",
   "name": "python3"
  },
  "language_info": {
   "codemirror_mode": {
    "name": "ipython",
    "version": 3
   },
   "file_extension": ".py",
   "mimetype": "text/x-python",
   "name": "python",
   "nbconvert_exporter": "python",
   "pygments_lexer": "ipython3",
   "version": "3.9.7"
  },
  "toc": {
   "base_numbering": 1,
   "nav_menu": {},
   "number_sections": true,
   "sideBar": true,
   "skip_h1_title": false,
   "title_cell": "Table of Contents",
   "title_sidebar": "Contents",
   "toc_cell": false,
   "toc_position": {},
   "toc_section_display": true,
   "toc_window_display": false
  }
 },
 "nbformat": 4,
 "nbformat_minor": 5
}
